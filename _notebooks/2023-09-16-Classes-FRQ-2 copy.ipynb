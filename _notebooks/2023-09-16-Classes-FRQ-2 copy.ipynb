{
 "cells": [
  {
   "cell_type": "markdown",
   "metadata": {},
   "source": [
    "---\n",
    "comments: True\n",
    "layout: post\n",
    "title: Classes FRQ 2\n",
    "type: hacks\n",
    "courses: { csa: {'week': 4}}\n",
    "---\n",
    "\n",
    "FRQ 2 is all about classes. This FRQ asseses the coder's ability to utilize classes in java"
   ]
  },
  {
   "cell_type": "code",
   "execution_count": null,
   "metadata": {
    "vscode": {
     "languageId": "java"
    }
   },
   "outputs": [],
   "source": [
    "public class CombinedTable\n",
    "{\n",
    "    private SingleTable table1;\n",
    "    private SingleTable table2;\n",
    "    \n",
    "    public CombinedTable(SingleTable tab1, SingleTable tab2)\n",
    "    {\n",
    "        table1 = tab1;\n",
    "        table2 = tab2;\n",
    "    }\n",
    "\n",
    "     public boolean canSeat(int n)\n",
    "    {\n",
    "        if (table1.getNumSeats() + table2.getNumSeats() - 2 >=n)\n",
    "        {\n",
    "            return true;\n",
    "        }\n",
    "        else\n",
    "        {\n",
    "            return false;\n",
    "        }\n",
    "    }\n",
    "    public double getDesireability()\n",
    "    {\n",
    "        if (table1.getHeight() == table2.getHeight())\n",
    "        {\n",
    "            return (table1.getViewQuality() +\n",
    "                    table2.getViewQuality()) / 2;\n",
    "        }\n",
    "        else\n",
    "        {\n",
    "            return (table1.getViewQuality() +\n",
    "                    table2.getViewQuality()) /2;\n",
    "        }\n",
    "    }\n",
    "}"
   ]
  },
  {
   "cell_type": "markdown",
   "metadata": {},
   "source": [
    "At the restaurant, customers can it at tables that are composed of 2 single tables pushed together. You will write a class \"CombinedTable\" to represent the result of combining two SingleTable objects, based on the following rules and examples in the chart that follows.\n",
    "1. A CombinedTable can seat a number of customers that is two fewer than the total number of seats in its two SingleTable objects (to account for the seats lost when the tables are pushed together)\n",
    "2. A CombinedTable has a desirability that depends on the views and heights of the two single tables. If the tables of a CombinedTable object are the same height, the desireability of the CombinedTable object is the average of the view qualities of the two single tables.\n",
    "3. If the two single tables of a CombinedTable object are not the same height, the desirability is decreased"
   ]
  },
  {
   "cell_type": "markdown",
   "metadata": {},
   "source": [
    "Using classes in Java can be powerful and essential for building complex software systems, but it's also easy to make mistakes, especially for beginners. Here are some common and simple mistakes that can be made when using classes in Java:\n",
    "\n",
    "Misspelled Class Names: Java is case-sensitive, so if you misspell a class name when creating an object or referencing a class, it will result in a compilation error."
   ]
  },
  {
   "cell_type": "code",
   "execution_count": null,
   "metadata": {
    "vscode": {
     "languageId": "java"
    }
   },
   "outputs": [],
   "source": [
    "MyClass myclass = new Myclass(); // Incorrect\n",
    "MyClass myClass = new MyClass(); // Correct"
   ]
  },
  {
   "cell_type": "markdown",
   "metadata": {},
   "source": [
    "Not Importing Classes: If you forget to import a class that you want to use, you'll encounter a compilation error. Import statements are necessary for using classes from different packages."
   ]
  },
  {
   "cell_type": "code",
   "execution_count": null,
   "metadata": {
    "vscode": {
     "languageId": "java"
    }
   },
   "outputs": [],
   "source": [
    "// Missing import statement\n",
    "ArrayList<String> list = new ArrayList<String>(); // Compilation error\n",
    "\n",
    "// Correct import statement\n",
    "import java.util.ArrayList;\n",
    "ArrayList<String> list = new ArrayList<String>(); // Correct"
   ]
  },
  {
   "cell_type": "markdown",
   "metadata": {},
   "source": [
    "Access Modifiers: Using incorrect access modifiers (e.g., private, protected, public) can lead to issues with visibility and accessibility of class members. Make sure to use the appropriate access modifier for your class members."
   ]
  },
  {
   "cell_type": "code",
   "execution_count": null,
   "metadata": {
    "vscode": {
     "languageId": "java"
    }
   },
   "outputs": [],
   "source": [
    "public class MyClass {\n",
    "    private int myVariable; // Incorrect, should use protected/public if needed\n",
    "}"
   ]
  },
  {
   "cell_type": "markdown",
   "metadata": {},
   "source": [
    "1. Java Example Using Classes:\n",
    "The question involves the WordMatch class, which stores a secret string and provides methods that compare other strings to the secret string. Here’s a simplified example:"
   ]
  },
  {
   "cell_type": "code",
   "execution_count": null,
   "metadata": {
    "vscode": {
     "languageId": "java"
    }
   },
   "outputs": [],
   "source": [
    "public class WordMatch {\n",
    "    private String secret;\n",
    "\n",
    "    public WordMatch(String word) {\n",
    "        this.secret = word;\n",
    "    }\n",
    "\n",
    "    public int scoreGuess(String guess) {\n",
    "        // Implementation here...\n",
    "    }\n",
    "\n",
    "    public String findBetterGuess(String guess1, String guess2) {\n",
    "        // Implementation here...\n",
    "    }\n",
    "}"
   ]
  },
  {
   "cell_type": "markdown",
   "metadata": {},
   "source": [
    "In this example, WordMatch is a class that encapsulates the concept of a word-matching game. It has a private instance variable secret that stores the secret word, and two public methods scoreGuess and findBetterGuess that operate on this secret word.\n",
    "2. Importance of Classes in Java:\n",
    "Classes are fundamental to Java’s object-oriented programming (OOP) paradigm. They are important for several reasons:\n",
    "Encapsulation: Classes allow us to bundle variables (attributes) and methods (behaviors) together into a single unit, an object. This makes it easier to manage and organize code.\n",
    "Abstraction: Classes provide a way to hide the complex implementation details and expose only the necessary functionalities.\n",
    "Inheritance: Classes enable the creation of hierarchical structures by allowing one class to inherit the properties and methods of another.\n",
    "Polymorphism: Classes allow objects of different types to be treated as objects of a parent class, leading to more flexible and dynamic code.\n",
    "3. Java Examples Using Classes and Sub-Classes:\n",
    "Here are three examples of classes and subclasses in Java:\n",
    "Example 1:\n"
   ]
  },
  {
   "cell_type": "code",
   "execution_count": null,
   "metadata": {
    "vscode": {
     "languageId": "java"
    }
   },
   "outputs": [],
   "source": [
    "public class Animal {\n",
    "    public void eat() {\n",
    "        System.out.println(\"The animal eats\");\n",
    "    }\n",
    "}\n",
    "\n",
    "public class Dog extends Animal {\n",
    "    @Override\n",
    "    public void eat() {\n",
    "        System.out.println(\"The dog eats\");\n",
    "    }\n",
    "}"
   ]
  },
  {
   "cell_type": "markdown",
   "metadata": {},
   "source": [
    "In this example, Dog is a subclass of Animal. It inherits the eat method from Animal and overrides it to provide its own implementation.\n",
    "Example 2:"
   ]
  },
  {
   "cell_type": "code",
   "execution_count": null,
   "metadata": {
    "vscode": {
     "languageId": "java"
    }
   },
   "outputs": [],
   "source": [
    "public class Vehicle {\n",
    "    public void run() {\n",
    "        System.out.println(\"The vehicle runs\");\n",
    "    }\n",
    "}\n",
    "\n",
    "public class Car extends Vehicle {\n",
    "    @Override\n",
    "    public void run() {\n",
    "        System.out.println(\"The car runs\");\n",
    "    }\n",
    "}"
   ]
  },
  {
   "cell_type": "markdown",
   "metadata": {},
   "source": [
    "Here, Car is a subclass of Vehicle. It also overrides the run method from Vehicle.\n",
    "Example 3:"
   ]
  },
  {
   "cell_type": "code",
   "execution_count": null,
   "metadata": {
    "vscode": {
     "languageId": "java"
    }
   },
   "outputs": [],
   "source": [
    "public class Shape {\n",
    "    public void draw() {\n",
    "        System.out.println(\"Draw the shape\");\n",
    "    }\n",
    "}\n",
    "\n",
    "public class Circle extends Shape {\n",
    "    @Override\n",
    "    public void draw() {\n",
    "        System.out.println(\"Draw the circle\");\n",
    "    }\n",
    "}"
   ]
  },
  {
   "cell_type": "markdown",
   "metadata": {},
   "source": [
    "In this last example, Circle is a subclass of Shape and overrides the draw method from Shape.\n",
    "These examples illustrate how classes and subclasses work in Java. The subclasses inherit methods from the parent class and can override them to provide their own specific behaviors. This is a key aspect of the OOP paradigm in Java.\n",
    "\n",
    "Overall, if you follow these tips, from how I graded myself I would get the full point. I also went ahead and consulted chatGPT and it also gave me a 1 but also gave me precautions and easy mistakes to make."
   ]
  }
 ],
 "metadata": {
  "kernelspec": {
   "display_name": "Java",
   "language": "java",
   "name": "java"
  },
  "language_info": {
   "codemirror_mode": "java",
   "file_extension": ".jshell",
   "mimetype": "text/x-java-source",
   "name": "Java",
   "pygments_lexer": "java",
   "version": "11.0.20+8-post-Ubuntu-1ubuntu122.04"
  },
  "orig_nbformat": 4
 },
 "nbformat": 4,
 "nbformat_minor": 2
}
