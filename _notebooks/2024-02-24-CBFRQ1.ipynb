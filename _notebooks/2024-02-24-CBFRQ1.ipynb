{
 "cells": [
  {
   "cell_type": "markdown",
   "metadata": {},
   "source": [
    "---\n",
    "layout: post\n",
    "title: College Board FRQ Question 1\n",
    "toc: true\n",
    "comments: true\n",
    "description: \n",
    "courses: { csa: {week: 24} }\n",
    "type: hacks\n",
    "---"
   ]
  },
  {
   "cell_type": "markdown",
   "metadata": {},
   "source": [
    "### (a)\n",
    "Write a static method arraySum that calculates and returns the sum of the entries in a specified one-dimensional array. The following example shows an array arr1 and the value returned by a call to arraySum."
   ]
  },
  {
   "cell_type": "markdown",
   "metadata": {},
   "source": [
    "![]({{ site.baseurl }}/images/frq1a.jpg)"
   ]
  },
  {
   "cell_type": "markdown",
   "metadata": {},
   "source": [
    "Complete method arraySum below.\n",
    "\n",
    "- / * * Returns the sum of the entries in the one-dimensional array arr.\n",
    "\n",
    "- * /\n",
    "\n",
    "public static int arraySum (int [ ] arr)\n",
    "\n",
    "### (b) \n",
    "Write a static method rowSums that calculates the sums of each of the rows in a given two-dimensional array and returns these sums in a one-dimensional array. The method has one parameter, a two-dimensional array arr2D of int values. The array is in row-major order: arr2D [ r ] [ c ] is the entry at row r and column c. The method returns a one-dimensional array with one entry for each row of arr2D such that each entry is the sum of the corresponding row in arr2D. As a reminder, each row of a two-dimensional array is a one-dimensional array.\n",
    "\n",
    "For example, if mat1 is the array represented by the following table, the call rowSums(mat1) returns the array {16, 32, 28, 20}."
   ]
  },
  {
   "cell_type": "markdown",
   "metadata": {},
   "source": [
    "![]({{ site.baseurl }}/images/frq1b.jpg)"
   ]
  },
  {
   "cell_type": "markdown",
   "metadata": {},
   "source": [
    "Assume that arraySum works as specified, regardless of what you wrote in part (a). You must use arraySum appropriately to receive full credit.\n",
    "\n",
    "Complete method rowSums below.\n",
    "\n",
    "- / * * Returns a one-dimensional array in which the entry at index k is the sum of\n",
    "\n",
    "- * the entries of row k of the two-dimensional array arr2D.\n",
    "\n",
    "- * /\n",
    "\n",
    "public static int [ ] rowSums(int [ ] [ ] arr2D)\n",
    "\n",
    "\n",
    "### (c)\n",
    "A two-dimensional array is diverse if no two of its rows have entries that sum to the same value. In the following examples, the array mat1 is diverse because each row sum is different, but the array mat2 is not diverse because the first and last rows have the same sum."
   ]
  },
  {
   "cell_type": "markdown",
   "metadata": {},
   "source": [
    "![]({{ site.baseurl }}/images/frq1c.jpg)"
   ]
  },
  {
   "cell_type": "markdown",
   "metadata": {},
   "source": [
    "Write a static method isDiverse that determines whether or not a given two-dimensional array is diverse. The method has one parameter: a two-dimensional array arr2D of int values. The method should return true if all the row sums in the given array are unique; otherwise, it should return false. In the arrays shown above, the call isDiverse (mat1) returns true and the call isDiverse(mat2) returns false."
   ]
  },
  {
   "cell_type": "markdown",
   "metadata": {},
   "source": [
    "![]({{ site.baseurl }}/images/frq1cc.jpg)"
   ]
  },
  {
   "cell_type": "markdown",
   "metadata": {},
   "source": [
    "Assume that arraySum and rowSums work as specified, regardless of what you wrote in parts (a) and(b). You must use rowSums appropriately to receive full credit.\n",
    "Complete method isDiverse below.\n",
    "\n",
    "- / * * Returns true if all rows in arr2D have different row sums;\n",
    "- * false otherwise.\n",
    "\n",
    "- * /public static boolean isDiverse(int [ ] [ ] arr2D)\n",
    "\n",
    "# Working code"
   ]
  },
  {
   "cell_type": "code",
   "execution_count": 3,
   "metadata": {
    "vscode": {
     "languageId": "java"
    }
   },
   "outputs": [
    {
     "name": "stdout",
     "output_type": "stream",
     "text": [
      "16\n",
      "14 35 36 14 \n",
      "false\n"
     ]
    }
   ],
   "source": [
    "public class ArrayOperations {\n",
    "    public static int calculateSum (int[] array)\n",
    "    {\n",
    "        int total = 0;\n",
    "        for (int element : array)\n",
    "        {\n",
    "            total += element;\n",
    "        }\n",
    "        return total;\n",
    "    }\n",
    "\n",
    "    public static int[] calculateRowSums(int[][] twoDArray) {\n",
    "        int[] rowSums = new int[twoDArray.length];\n",
    "        for (int i = 0; i < twoDArray.length; i++) {\n",
    "            rowSums[i] = calculateSum(twoDArray[i]);\n",
    "        }\n",
    "        return rowSums;\n",
    "    }\n",
    "\n",
    "    public static boolean checkDiversity(int[][] twoDArray)\n",
    "    {\n",
    "        int[] rowSums = calculateRowSums(twoDArray);\n",
    "        Set<Integer> uniqueSums = new HashSet<>();\n",
    "        for (int sum : rowSums) {\n",
    "            if (!uniqueSums.add(sum)) {\n",
    "                return false;\n",
    "            }\n",
    "        }\n",
    "        return true;\n",
    "    }\n",
    "}\n",
    "\n",
    "public class Main {\n",
    "    public static void main(String[] args)\n",
    "    {\n",
    "        int[] singleArray = {1, 3, 2, 7, 3};\n",
    "        System.out.println(ArrayOperations.calculateSum(singleArray));\n",
    "\n",
    "        int[][] doubleArray = {\n",
    "            {1, 1, 5, 3, 4},\n",
    "            {12, 7, 6, 1, 9},\n",
    "            {8, 11, 10, 2, 5},\n",
    "            {3, 2, 3, 0, 6}\n",
    "        };        \n",
    "\n",
    "        int[] rowSums = ArrayOperations.calculateRowSums(doubleArray);\n",
    "        for (int sum : rowSums)\n",
    "        {\n",
    "            System.out.print(sum + \" \");\n",
    "        }\n",
    "        System.out.println();\n",
    "\n",
    "        System.out.println(ArrayOperations.checkDiversity(doubleArray));\n",
    "    }\n",
    "}\n",
    "\n",
    "Main.main(null);\n"
   ]
  }
 ],
 "metadata": {
  "kernelspec": {
   "display_name": "Java",
   "language": "java",
   "name": "java"
  },
  "language_info": {
   "codemirror_mode": "java",
   "file_extension": ".jshell",
   "mimetype": "text/x-java-source",
   "name": "Java",
   "pygments_lexer": "java",
   "version": "21.0.1+12-Ubuntu-222.04"
  }
 },
 "nbformat": 4,
 "nbformat_minor": 2
}
