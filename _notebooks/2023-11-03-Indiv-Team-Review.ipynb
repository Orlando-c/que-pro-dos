{
 "cells": [
  {
   "cell_type": "markdown",
   "metadata": {},
   "source": [
    "---\n",
    "layout: post\n",
    "title: N@TM Blog ~ Individual Trimester Review ~ Team Review ~ MCQ Review\n",
    "description: A progressive journey through Java Inheritance\n",
    "courses: { csa: {week: 12} }\n",
    "type: hacks\n",
    "---\n",
    "\n",
    "### N@TM\n",
    "\n",
    "- N@TM offers a diverse range of classes that cater to different interests and skillsets. Among these classes, 3D Animation stands out as a fascinating and visually engaging subject. The art forms showcased in this class were incredibly varied, ranging from realistic depictions to abstract representations, and even a combination of both. Exploring the endless possibilities of 3D animation was an enriching experience, and I found myself fascinated by the intricate details that went into creating each piece.\n",
    "\n",
    "- Another class that I found myself thoroughly immersed in was Visual Arts. It was undoubtedly the class where I spent the most time, aside from Computer Science. The artwork showcased here was truly impressive, and I was awed by the creativity and talent of the artists. This section inspired me to be more thoughtful and deliberate in my own work, as I saw firsthand how attention to detail and a creative mindset could produce stunning results.\n",
    "\n",
    "- Of course, I couldn't forget the incredible computer science projects that other students had created. DADY Accademy was one of my personal favorites, as it presented random computer science questions for the user to solve. The project was polished and well-executed, with custom animations and the ability to create an account. It was evident that a lot of hard work and dedication went into creating these projects, and I was inspired to approach my own work with the same level of care and precision. Overall, N@TM provided a rich learning experience, with a diverse range of classes and projects that catered to various interests and skillsets.\n",
    "\n",
    "![](images/IMG_5355.jpg)\n",
    "![](images/IMG_5356.jpg)\n",
    "![](images/IMG_5358.jpg)\n",
    "![](images/IMG_5376.jpg)\n",
    "![](images/IMG_5711.JPEG)\n",
    "![](images/IMG_5690.JPEG)\n",
    "![](images/IMG_5691.JPEG)\n",
    "![](images/IMG_5693.JPEG)\n",
    "![](images/IMG_5696.JPEG)\n",
    "![](images/IMG_5701.JPEG)\n",
    "![](images/IMG_5702.JPEG)\n",
    "![](images/IMG_5710.JPEG)"
   ]
  }
 ],
 "metadata": {
  "language_info": {
   "name": "python"
  }
 },
 "nbformat": 4,
 "nbformat_minor": 2
}
