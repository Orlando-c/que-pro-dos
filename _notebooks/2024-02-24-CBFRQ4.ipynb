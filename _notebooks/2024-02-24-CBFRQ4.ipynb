{
 "cells": [
  {
   "cell_type": "markdown",
   "metadata": {},
   "source": [
    "---\n",
    "layout: post\n",
    "title: College Board FRQ Question 4\n",
    "toc: true\n",
    "comments: true\n",
    "description: \n",
    "courses: { csa: {week: 24} }\n",
    "type: hacks\n",
    "---"
   ]
  },
  {
   "cell_type": "markdown",
   "metadata": {},
   "source": [
    "This question involves the design of an interface, writing a class that implements the interface, and writing a method that uses the interface.\n",
    "\n",
    "### (a) \n",
    "A number group represents a group of integers defined in some way. It could be empty, or it could contain one or more integers.\n",
    "\n",
    "Write an interface named NumberGroup that represents a group of integers. The interface should have a single contains method that determines if a given integer is in the group. For example, if group1 is of type NumberGroup, and it contains only the two numbers -5 and 3, then group1.contains(-5) would return true, and group1.contains(2) would return false.\n",
    "Write the complete NumberGroup interface. It must have exactly one method.\n",
    "\n",
    "### (b) \n",
    "A range represents a number group that contains all (and only) the integers between a minimum value and a maximum value, inclusive.\n",
    "\n",
    "Write the Range class, which is a NumberGroup. The Range class represents the group of int values that range from a given minimum value up through a given maximum value, inclusive. For example,the declaration\n",
    "\n",
    "NumberGroup range1 = new Range(-3, 2);\n",
    "\n",
    "represents the group of integer values -3, -2, -1, 0, 1, 2.\n",
    "\n",
    "Write the complete Range class. Include all necessary instance variables and methods as well as a constructor that takes two int parameters. The first parameter represents the minimum value, and the second parameter represents the maximum value of the range. You may assume that the minimum is less than or equal to the maximum.\n",
    "\n",
    "### (c) \n",
    "The MultipleGroups class (not shown) represents a collection of NumberGroup objects and isa NumberGroup. The MultipleGroups class stores the number groups in the instance variable groupList (shown below), which is initialized in the constructor.\n",
    "\n",
    "private List<NumberGroup> groupList;\n",
    "\n",
    "Write the MultipleGroups method contains. The method takes an integer and returns true if and only if the integer is contained in one or more of the number groups in groupList.\n",
    "\n",
    "For example, suppose multiple1 has been declared as an instance of MultipleGroups and consists of the three ranges created by the calls new Range(5, 8), new Range(10, 12), and new Range(1, 6). The following table shows the results of several calls to contains."
   ]
  },
  {
   "cell_type": "markdown",
   "metadata": {},
   "source": [
    "![]({{ site.baseurl }}/images/frq4a.jpg)"
   ]
  },
  {
   "cell_type": "markdown",
   "metadata": {},
   "source": [
    "# Working Code"
   ]
  },
  {
   "cell_type": "code",
   "execution_count": 1,
   "metadata": {},
   "outputs": [
    {
     "name": "stdout",
     "output_type": "stream",
     "text": [
      "group1.includes(-2): true\n",
      "group1.includes(3): false\n",
      "compositeGroup.includes(4): true\n",
      "compositeGroup.includes(100): false\n",
      "compositeGroup.includes(11): true\n"
     ]
    }
   ],
   "source": [
    "public interface GroupOfNumbers {\n",
    "    boolean includes(int value);\n",
    "}\n",
    "\n",
    "public class Interval implements GroupOfNumbers {\n",
    "    private int lowerBound;\n",
    "    private int upperBound;\n",
    "\n",
    "    public Interval(int lowerBound, int upperBound) {\n",
    "        this.lowerBound = lowerBound;\n",
    "        this.upperBound = upperBound;\n",
    "    }\n",
    "\n",
    "    public boolean includes(int value) {\n",
    "        return value >= lowerBound && value <= upperBound;\n",
    "    }\n",
    "}\n",
    "\n",
    "public class CompositeGroup implements GroupOfNumbers {\n",
    "    private List<GroupOfNumbers> listOfGroups;\n",
    "\n",
    "    public CompositeGroup(List<GroupOfNumbers> listOfGroups) {\n",
    "        this.listOfGroups = listOfGroups;\n",
    "    }\n",
    "\n",
    "    public boolean includes(int value) {\n",
    "        for (GroupOfNumbers group : listOfGroups) {\n",
    "            if (group.includes(value)) {\n",
    "                return true;\n",
    "            }\n",
    "        }\n",
    "        return false;\n",
    "    }\n",
    "}\n",
    "\n",
    "public class TestGroups {\n",
    "    public static void main(String[] args) {\n",
    "        GroupOfNumbers group1 = new Interval(-3, 2);\n",
    "        System.out.println(\"group1.includes(-2): \" + group1.includes(-2));\n",
    "        System.out.println(\"group1.includes(3): \" + group1.includes(3));\n",
    "\n",
    "        GroupOfNumbers group2 = new Interval(4, 7);\n",
    "        GroupOfNumbers group3 = new Interval(10, 15);\n",
    "        List<GroupOfNumbers> groupList = new ArrayList<>();\n",
    "        groupList.add(group2);\n",
    "        groupList.add(group3);\n",
    "        GroupOfNumbers compositeGroup = new CompositeGroup(groupList);\n",
    "        System.out.println(\"compositeGroup.includes(4): \" + compositeGroup.includes(4));        \n",
    "        System.out.println(\"compositeGroup.includes(100): \" + compositeGroup.includes(100));\n",
    "        System.out.println(\"compositeGroup.includes(11): \" + compositeGroup.includes(11));\n",
    "    }\n",
    "}\n",
    "\n",
    "TestGroups.main(null);"
   ]
  }
 ],
 "metadata": {
  "kernelspec": {
   "display_name": "Java",
   "language": "java",
   "name": "java"
  },
  "language_info": {
   "codemirror_mode": "java",
   "file_extension": ".jshell",
   "mimetype": "text/x-java-source",
   "name": "java",
   "pygments_lexer": "java",
   "version": "21.0.1+12-Ubuntu-222.04"
  }
 },
 "nbformat": 4,
 "nbformat_minor": 2
}
