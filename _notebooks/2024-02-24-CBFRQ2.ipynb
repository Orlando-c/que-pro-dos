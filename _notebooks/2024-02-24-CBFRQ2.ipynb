{
 "cells": [
  {
   "cell_type": "markdown",
   "metadata": {},
   "source": [
    "---\n",
    "layout: post\n",
    "title: College Board FRQ Question 2\n",
    "toc: true\n",
    "comments: true\n",
    "description: \n",
    "courses: { csa: {week: 24} }\n",
    "type: hacks\n",
    "---"
   ]
  },
  {
   "cell_type": "markdown",
   "metadata": {},
   "source": [
    "Consider a guessing game in which a player tries to guess a hidden word. The hidden word contains only capital letters and has a length known to the player. A guess contains only capital letters and has the same length as the hidden word.\n",
    "\n",
    "After a guess is made, the player is given a hint that is based on a comparison between the hidden word and the guess. Each position in the hint contains a character that corresponds to the letter in the same position in the guess. The following rules determine the characters that appear in the hint."
   ]
  },
  {
   "cell_type": "markdown",
   "metadata": {},
   "source": [
    "![]({{ site.baseurl }}/images/frq2a.jpg)"
   ]
  },
  {
   "cell_type": "markdown",
   "metadata": {},
   "source": [
    "HiddenWord class will be used to represent the hidden word in the game. The hidden word is passed to the constructor. The class contains a method, getHint, that takes a guess and produces a hint.\n",
    "\n",
    "For example, suppose the variable puzzle is declared as follows.\n",
    "\n",
    "HiddenWord puzzle = new HiddenWord(“HARPS”);\n",
    "\n",
    "The following table shows several guesses and the hints that would be produced."
   ]
  },
  {
   "cell_type": "markdown",
   "metadata": {},
   "source": [
    "![]({{ site.baseurl }}/images/frq2b.jpg)"
   ]
  },
  {
   "cell_type": "markdown",
   "metadata": {},
   "source": [
    "Write the complete HiddenWord class, including any necessary instance variables, its constructor, and the method, getHint, described above. You may assume that the length of the guess is the same as the length of the hidden word.\n",
    "\n",
    "# Working Code"
   ]
  },
  {
   "cell_type": "code",
   "execution_count": 1,
   "metadata": {},
   "outputs": [
    {
     "name": "stdout",
     "output_type": "stream",
     "text": [
      "+A+++\n",
      "H****\n",
      "H*++*\n",
      "HAR*S\n",
      "HARPS\n"
     ]
    }
   ],
   "source": [
    "public class SecretWord {\n",
    "    private String secret;\n",
    "\n",
    "    public SecretWord(String secret) {\n",
    "        this.secret = secret;\n",
    "    }\n",
    "\n",
    "    public String provideHint(String guess) {\n",
    "        StringBuilder hint = new StringBuilder();\n",
    "        for (int i = 0; i < guess.length(); i++) {\n",
    "            if (guess.charAt(i) == secret.charAt(i)) {\n",
    "                hint.append(guess.charAt(i));\n",
    "            } else if (secret.contains(String.valueOf(guess.charAt(i)))) {\n",
    "                hint.append(\"+\");\n",
    "            } else {\n",
    "                hint.append(\"*\");\n",
    "            }\n",
    "        }\n",
    "        return hint.toString();\n",
    "    }\n",
    "\n",
    "    public static void main(String[] args) {\n",
    "        SecretWord game = new SecretWord(\"HARPS\");\n",
    "        System.out.println(game.provideHint(\"AAAAA\"));\n",
    "        System.out.println(game.provideHint(\"HELLO\"));\n",
    "        System.out.println(game.provideHint(\"HEART\"));\n",
    "        System.out.println(game.provideHint(\"HARMS\"));\n",
    "        System.out.println(game.provideHint(\"HARPS\"));\n",
    "    }\n",
    "}\n",
    "\n",
    "SecretWord.main(null);"
   ]
  }
 ],
 "metadata": {
  "kernelspec": {
   "display_name": "Java",
   "language": "java",
   "name": "java"
  },
  "language_info": {
   "codemirror_mode": "java",
   "file_extension": ".jshell",
   "mimetype": "text/x-java-source",
   "name": "java",
   "pygments_lexer": "java",
   "version": "21.0.1+12-Ubuntu-222.04"
  }
 },
 "nbformat": 4,
 "nbformat_minor": 2
}
