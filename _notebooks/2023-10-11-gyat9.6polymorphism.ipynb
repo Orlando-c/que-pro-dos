{
 "cells": [
  {
   "cell_type": "markdown",
   "metadata": {},
   "source": [
    "### Java Polymorphism\n",
    "\n",
    "Polymorphism means \"many forms\", and it occurs when we have many classes that are related to each other by inheritance.\n",
    "\n",
    "Like we specified in the previous chapter; Inheritance lets us inherit attributes and methods from another class. Polymorphism uses those methods to perform different tasks. This allows us to perform a single action in different ways.\n",
    "\n",
    "For example, think of a superclass called Animal that has a method called animalSound(). Subclasses of Animals could be Pigs, Cats, Dogs, Birds - And they also have their own implementation of an animal sound (the pig oinks, and the cat meows, etc.):"
   ]
  },
  {
   "cell_type": "code",
   "execution_count": 1,
   "metadata": {
    "vscode": {
     "languageId": "java"
    }
   },
   "outputs": [],
   "source": [
    "// Shape class\n",
    "abstract class Shape {\n",
    "    public abstract void draw();\n",
    "}\n",
    "\n",
    "// Circle class, inheriting from Shape\n",
    "class Circle extends Shape {\n",
    "    public void draw() {\n",
    "        System.out.println(\"Drawing a circle\");\n",
    "    }\n",
    "}\n",
    "\n",
    "// Rectangle class, inheriting from Shape\n",
    "class Rectangle extends Shape {\n",
    "    public void draw() {\n",
    "        System.out.println(\"Drawing a rectangle\");\n",
    "    }\n",
    "}\n",
    "\n",
    "public class Main {\n",
    "    public static void main(String[] args) {\n",
    "        Shape shape1 = new Circle();\n",
    "        Shape shape2 = new Rectangle();\n",
    "\n",
    "        shape1.draw();  // Output: \"Drawing a circle\"\n",
    "        shape2.draw();  // Output: \"Drawing a rectangle\"\n",
    "    }\n",
    "}"
   ]
  }
 ],
 "metadata": {
  "kernelspec": {
   "display_name": "Java",
   "language": "java",
   "name": "java"
  },
  "language_info": {
   "codemirror_mode": "java",
   "file_extension": ".jshell",
   "mimetype": "text/x-java-source",
   "name": "Java",
   "pygments_lexer": "java",
   "version": "11.0.20+8-post-Ubuntu-1ubuntu122.04"
  },
  "orig_nbformat": 4
 },
 "nbformat": 4,
 "nbformat_minor": 2
}
