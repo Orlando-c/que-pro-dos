{
 "cells": [
  {
   "cell_type": "markdown",
   "metadata": {},
   "source": [
    "---\n",
    "layout: post\n",
    "title: N@TM Blog\n",
    "toc: true\n",
    "comments: true\n",
    "description: My experience at N@TM as well as my project\n",
    "courses: { csa: {week: 12} }\n",
    "type: hacks\n",
    "---"
   ]
  },
  {
   "cell_type": "markdown",
   "metadata": {},
   "source": [
    "# Two Trimester focus planning\n",
    "\n",
    "For our site, we wanted to make a site similar to slack or discord without paywalls locking a majority of the available feature, especially customization. Here are all of the features we initially had planned\n",
    "\n",
    "1. Send messages in curated \"place\"s and channels \n",
    "2. Ability to send messages to an AI for any of the user's needs\n",
    "3. Customization features such as text size, orientation, background color, text color... etc\n",
    "4. Create and customize your profile and send private messages to your friend\n",
    "\n",
    "We hit on some of these however I feel like we couldve definetly worked a little harder on some of our features. Here is what we completed and what was excluded\n",
    "\n",
    "- + Send messages in curated channels\n",
    "- - Cant create a place yet, limited to one set of channels\n",
    "\n",
    "- + Ability to send messages to an AI for any of the user's needs\n",
    "- - Slow process and limited to answers\n",
    "\n",
    "- + Customzation features such as background color, text color, light/dark mode\n",
    "- - Cant customize text sixe or orientation of messages/website\n",
    "\n",
    "- - Cant create or customize accounts nor send private messages to your friends :P\n",
    "\n",
    "These are some issues that we know we have but we plan on hitting on these in tri 2 and more!\n",
    "\n",
    "how you used N@tM to capture test data to be used in trimester 3\n",
    "from feedback, something you will add to your project\n",
    "other?\n",
    "Blog / article on you and team\n",
    "\n",
    "reflection on glows/grows from your demo/presentations\n",
    "visuals or pics of team and people you talked\n",
    "Blog on event\n",
    "\n",
    "something you saw in CompSci that impressed\n",
    "something you saw outside of CompSci that you liked"
   ]
  }
 ],
 "metadata": {
  "language_info": {
   "name": "python"
  }
 },
 "nbformat": 4,
 "nbformat_minor": 2
}
