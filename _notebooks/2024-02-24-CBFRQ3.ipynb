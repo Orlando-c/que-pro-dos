{
 "cells": [
  {
   "cell_type": "markdown",
   "metadata": {},
   "source": [
    "---\n",
    "layout: post\n",
    "title: College Board FRQ Question 3\n",
    "toc: true\n",
    "comments: true\n",
    "description: \n",
    "courses: { csa: {week: 24} }\n",
    "type: hacks\n",
    "---"
   ]
  },
  {
   "cell_type": "markdown",
   "metadata": {},
   "source": [
    "A two-dimensional array of integers in which most elements are zero is called a sparse array. Because most elements have a value of zero, memory can be saved by storing only the non-zero values along with their row and column indexes. The following complete SparseArrayEntry class is used to represent non-zero elements in a sparse array. A SparseArrayEntry object cannot be modified after it has been constructed."
   ]
  },
  {
   "cell_type": "markdown",
   "metadata": {},
   "source": [
    "![]({{ site.baseurl }}/images/frq3a.jpg)"
   ]
  },
  {
   "cell_type": "markdown",
   "metadata": {},
   "source": [
    "The SparseArray class represents a sparse array. It contains a list of SparseArrayEntry objects, each of which represents one of the non-zero elements in the array. The entries representing the non-zero elements are stored in the list in no particular order. Each non-zero element is represented by exactly one entry in the list."
   ]
  },
  {
   "cell_type": "markdown",
   "metadata": {},
   "source": [
    "![]({{ site.baseurl }}/images/frq3b.jpg)"
   ]
  },
  {
   "cell_type": "markdown",
   "metadata": {},
   "source": [
    "The following table shows an example of a two-dimensional sparse array. Empty cells in the table indicate zero values."
   ]
  },
  {
   "cell_type": "markdown",
   "metadata": {},
   "source": [
    "![]({{ site.baseurl }}/images/frq3c.jpg)"
   ]
  },
  {
   "cell_type": "markdown",
   "metadata": {},
   "source": [
    "### (a)\n",
    "Write the SparseArray method getValueAt. The method returns the value of the sparse array element at a given row and column in the sparse array. If the list entries contains an entry with the specified row and column, the value associated with the entry is returned. If there is no entry in entries corresponding to the specified row and column, 0 is returned.\n",
    "In the example above, the call sparse.getValueAt(3, 1) would return -9, and sparse.getValueAt(3, 3) would return 0.\n",
    "\n",
    "Complete method getValueAt below."
   ]
  },
  {
   "cell_type": "markdown",
   "metadata": {},
   "source": [
    "![]({{ site.baseurl }}/images/frq3d.jpg)"
   ]
  },
  {
   "cell_type": "markdown",
   "metadata": {},
   "source": [
    "(b) Write the SparseArray method removeColumn. After removing a specified column from a sparsearray:\n",
    "\n",
    "- All entries in the list entries with column indexes matching col are removed from the list.\n",
    "\n",
    "- All entries in the list entries with column indexes greater than col are replaced by entries with column indexes that are decremented by one (moved one column to the left).\n",
    "\n",
    "- The number of columns in the sparse array is adjusted to reflect the column removed."
   ]
  },
  {
   "cell_type": "markdown",
   "metadata": {},
   "source": [
    "![]({{ site.baseurl }}/images/frq3e.jpg)"
   ]
  },
  {
   "cell_type": "markdown",
   "metadata": {},
   "source": [
    "When sparse has the state shown above, the call sparse.removeColumn(1) could result insparse having the following values in its instance variables (since entries is in no particular order, itwould be equally valid to reverse the order of its two items). The shaded areas below show the changes."
   ]
  },
  {
   "cell_type": "markdown",
   "metadata": {},
   "source": [
    "![]({{ site.baseurl }}/images/frq3f.jpg)"
   ]
  },
  {
   "cell_type": "code",
   "execution_count": 1,
   "metadata": {},
   "outputs": [
    {
     "name": "stdout",
     "output_type": "stream",
     "text": [
      "Before Removal: \n",
      "Row: 1, Column: 1, Value: 5\n",
      "Row: 1, Column: 4, Value: 4\n",
      "Row: 2, Column: 0, Value: 1\n",
      "Row: 3, Column: 1, Value: -9\n",
      "After Removal: \n",
      "Row: 1, Column: 3, Value: 4\n",
      "Row: 2, Column: 0, Value: 1\n"
     ]
    }
   ],
   "source": [
    "public class SparseEntry {\n",
    "    private int rowPosition;\n",
    "    private int colPosition;\n",
    "    private int entryValue; \n",
    "\n",
    "    public SparseEntry(int row, int col, int value) {\n",
    "        this.rowPosition = row;\n",
    "        this.colPosition = col;\n",
    "        this.entryValue = value; \n",
    "    }\n",
    "\n",
    "    public int getRowPosition() {\n",
    "        return this.rowPosition;\n",
    "    } \n",
    "\n",
    "    public int getColPosition() {\n",
    "        return this.colPosition;\n",
    "    } \n",
    "\n",
    "    public int getEntryValue() {\n",
    "        return this.entryValue;\n",
    "    }\n",
    "}\n",
    "\n",
    "public class SparseMatrix {\n",
    "    private int totalRows;\n",
    "    private int totalCols; \n",
    "    private List<SparseEntry> entryList; \n",
    "\n",
    "    public SparseMatrix() {\n",
    "        this.entryList = new ArrayList<SparseEntry>(); \n",
    "    }\n",
    "\n",
    "    public void addEntry(SparseEntry entry) {\n",
    "        this.entryList.add(entry);\n",
    "    }\n",
    "\n",
    "    public int getTotalRows() {\n",
    "        return this.totalRows;\n",
    "    }\n",
    "\n",
    "    public int getTotalCols() {\n",
    "        return this.totalCols;\n",
    "    }\n",
    "\n",
    "    public int getValueAtPosition(int row, int col) {\n",
    "        for (SparseEntry entry : this.entryList) {\n",
    "            if (entry.getRowPosition() == row && entry.getColPosition() == col) {\n",
    "                return entry.getEntryValue();\n",
    "            }\n",
    "        }\n",
    "        return 0;\n",
    "    }\n",
    "\n",
    "    public void removeCol(int col) {\n",
    "        int index = 0;\n",
    "        while (index < this.entryList.size()) {\n",
    "            SparseEntry currentEntry = this.entryList.get(index);\n",
    "            if (currentEntry.getColPosition() == col) {\n",
    "                this.entryList.remove(index);\n",
    "            } else if (currentEntry.getColPosition() > col) {\n",
    "                this.entryList.set(index, new SparseEntry(currentEntry.getRowPosition(), currentEntry.getColPosition() - 1, currentEntry.getEntryValue()));\n",
    "                index++;\n",
    "            } else {\n",
    "                index++;\n",
    "            }\n",
    "        }\n",
    "        this.totalCols--;\n",
    "    }\n",
    "\n",
    "    public void displayEntries() {\n",
    "        for (SparseEntry entry : this.entryList) {\n",
    "            System.out.println(\"Row: \" + entry.getRowPosition() + \", Column: \" + entry.getColPosition() + \", Value: \" + entry.getEntryValue());\n",
    "        }\n",
    "    }     \n",
    "}\n",
    "\n",
    "public class TestSparseMatrix {\n",
    "    public static void main(String[] args) {\n",
    "        SparseMatrix sparseMatrix = new SparseMatrix();\n",
    "        sparseMatrix.addEntry(new SparseEntry(1, 1, 5));\n",
    "        sparseMatrix.addEntry(new SparseEntry(1, 4, 4));\n",
    "        sparseMatrix.addEntry(new SparseEntry(2, 0, 1));\n",
    "        sparseMatrix.addEntry(new SparseEntry(3, 1, -9));\n",
    "        System.out.println(\"Before Removal: \");\n",
    "        sparseMatrix.displayEntries();\n",
    "\n",
    "        sparseMatrix.removeCol(1); // Remove column 1\n",
    "        System.out.println(\"After Removal: \");\n",
    "        sparseMatrix.displayEntries();\n",
    "    }\n",
    "}\n",
    "\n",
    "TestSparseMatrix.main(null);"
   ]
  }
 ],
 "metadata": {
  "kernelspec": {
   "display_name": "Java",
   "language": "java",
   "name": "java"
  },
  "language_info": {
   "codemirror_mode": "java",
   "file_extension": ".jshell",
   "mimetype": "text/x-java-source",
   "name": "java",
   "pygments_lexer": "java",
   "version": "21.0.1+12-Ubuntu-222.04"
  }
 },
 "nbformat": 4,
 "nbformat_minor": 2
}
