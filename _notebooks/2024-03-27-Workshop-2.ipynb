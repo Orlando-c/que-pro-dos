{
 "cells": [
  {
   "cell_type": "markdown",
   "metadata": {},
   "source": [
    "# FRQ Question 3:\n",
    "\n",
    "(a) Explain how a constructor works, including when it runs and what generally is done within a constructor.\n",
    "\n",
    "A constructor is a special method in a class that is automatically called when an object of that class is created. It has the same name as the class and doesn’t have a return type. The purpose of a constructor is to initialize the object’s state. In other words, constructors are used to set initial values for class attributes or to perform any other start-up procedures required for creating a fully formed object.\n",
    "\n",
    "(b) Create an example of an overloaded constructor within a class. You must use at least three variables. Include the correct initialization of variables and correct headers for the constructor. Then, run the constructor at least twice with different variables and demonstrate that these two objects called different constructors.\n",
    "\n",
    "Overloaded constructors are multiple constructors within the same class that have the same name but different parameters. They provide flexibility in the instantiation of objects by allowing different ways to create an object of a class.\n",
    "\n",
    "Here’s an example of a class with overloaded constructors:"
   ]
  },
  {
   "cell_type": "code",
   "execution_count": 5,
   "metadata": {},
   "outputs": [
    {
     "name": "stdout",
     "output_type": "stream",
     "text": [
      "Name: Unknown\n",
      "Age: 0\n",
      "Major: Undeclared\n",
      "Name: John\n",
      "Age: 0\n",
      "Major: Undeclared\n",
      "Name: John Mortensen\n",
      "Age: 21\n",
      "Major: Computer Science Teacher\n"
     ]
    }
   ],
   "source": [
    "public class Student {\n",
    "    String name;\n",
    "    int age;\n",
    "    String major;\n",
    "\n",
    "    // 0 params\n",
    "    public Student() {\n",
    "        this.name = \"Unknown\";\n",
    "        this.age = 0;\n",
    "        this.major = \"Undeclared\";\n",
    "    }\n",
    "\n",
    "    // 1 param\n",
    "    public Student(String name) {\n",
    "        this.name = name;\n",
    "        this.age = 0;\n",
    "        this.major = \"Undeclared\";\n",
    "    }\n",
    "\n",
    "    // 3 params\n",
    "    public Student(String name, int age, String major) {\n",
    "        this.name = name;\n",
    "        this.age = age;\n",
    "        this.major = major;\n",
    "    }\n",
    "\n",
    "    public void printStudentDetails() {\n",
    "        System.out.println(\"Name: \" + this.name);\n",
    "        System.out.println(\"Age: \" + this.age);\n",
    "        System.out.println(\"Major: \" + this.major);\n",
    "    }\n",
    "}\n",
    "\n",
    "Student student1 = new Student();\n",
    "Student student2 = new Student(\"John\");\n",
    "Student student3 = new Student(\"John Mortensen\", 21, \"Computer Science Teacher\");\n",
    "\n",
    "student1.printStudentDetails();\n",
    "student2.printStudentDetails();\n",
    "student3.printStudentDetails();"
   ]
  },
  {
   "cell_type": "markdown",
   "metadata": {},
   "source": [
    "The Student class has three constructors:\n",
    "\n",
    "- A default constructor that takes no arguments and initializes the name to “Unknown”, the age to 0, and the major to “Undeclared”.\n",
    "- A constructor that takes a String argument for the name. It sets the age to 0 and the major to “Undeclared”.\n",
    "- A constructor that takes three arguments: a String for the name, an int for the age, and another String for the major.\n",
    "The Student class also has a method printStudentDetails() that prints the name, age, and major of a student to the console.\n",
    "\n",
    "After defining the Student class, the code creates three Student objects:\n",
    "\n",
    "- student1 is created using the default constructor.\n",
    "- student2 is created with the name “John”.\n",
    "- student3 is created with the name “John Mortensen”, age 21, and major “Computer Science Teacher”.\n",
    "Finally, the printStudentDetails() method is called on each of the Student objects to print their details to the console. This will display the name, age, and major of each student."
   ]
  }
 ],
 "metadata": {
  "kernelspec": {
   "display_name": "Java",
   "language": "java",
   "name": "java"
  },
  "language_info": {
   "codemirror_mode": "java",
   "file_extension": ".jshell",
   "mimetype": "text/x-java-source",
   "name": "java",
   "pygments_lexer": "java",
   "version": "21.0.1+12-Ubuntu-222.04"
  }
 },
 "nbformat": 4,
 "nbformat_minor": 2
}
